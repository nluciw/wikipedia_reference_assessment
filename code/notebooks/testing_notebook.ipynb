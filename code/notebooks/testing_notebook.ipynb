{
 "cells": [
  {
   "cell_type": "code",
   "execution_count": 2,
   "id": "three-treasury",
   "metadata": {},
   "outputs": [],
   "source": [
    "import requests\n",
    "from bs4 import BeautifulSoup "
   ]
  },
  {
   "cell_type": "code",
   "execution_count": 3,
   "id": "numeric-productivity",
   "metadata": {},
   "outputs": [],
   "source": [
    "article_url = 'https://en.wikipedia.org/wiki/Ketogenic_diet'"
   ]
  },
  {
   "cell_type": "code",
   "execution_count": 4,
   "id": "pointed-bangkok",
   "metadata": {},
   "outputs": [],
   "source": [
    "html = requests.get(url=article_url)"
   ]
  },
  {
   "cell_type": "code",
   "execution_count": 7,
   "id": "thousand-favor",
   "metadata": {},
   "outputs": [],
   "source": [
    "soup = BeautifulSoup(html.content, 'html.parser')"
   ]
  },
  {
   "cell_type": "code",
   "execution_count": 113,
   "id": "characteristic-obligation",
   "metadata": {},
   "outputs": [],
   "source": [
    "title = soup.find(class_='firstHeading').text"
   ]
  },
  {
   "cell_type": "code",
   "execution_count": 101,
   "id": "lesser-communications",
   "metadata": {},
   "outputs": [],
   "source": [
    "references = soup.findAll('ol')[-1]"
   ]
  },
  {
   "cell_type": "code",
   "execution_count": 120,
   "id": "tender-ridge",
   "metadata": {},
   "outputs": [],
   "source": [
    "a = [('a','b'),('c','d')]"
   ]
  },
  {
   "cell_type": "code",
   "execution_count": 122,
   "id": "composite-coach",
   "metadata": {},
   "outputs": [
    {
     "name": "stdout",
     "output_type": "stream",
     "text": [
      "(0, ('a', 'b'))\n",
      "(1, ('c', 'd'))\n"
     ]
    }
   ],
   "source": [
    "for i in enumerate(a):\n",
    "    print(i)"
   ]
  },
  {
   "cell_type": "code",
   "execution_count": 123,
   "id": "rapid-ensemble",
   "metadata": {},
   "outputs": [],
   "source": [
    "import pandas as pd\n",
    "import seaborn as sns"
   ]
  },
  {
   "cell_type": "code",
   "execution_count": 125,
   "id": "prompt-airplane",
   "metadata": {},
   "outputs": [],
   "source": [
    "iris = sns.load_dataset('iris')"
   ]
  },
  {
   "cell_type": "code",
   "execution_count": 133,
   "id": "close-tamil",
   "metadata": {},
   "outputs": [],
   "source": [
    "c = list(iris.columns)"
   ]
  },
  {
   "cell_type": "code",
   "execution_count": 135,
   "id": "seven-wealth",
   "metadata": {},
   "outputs": [
    {
     "data": {
      "text/plain": [
       "['a', 'sepal_length', 'sepal_width', 'petal_length', 'petal_width', 'species']"
      ]
     },
     "execution_count": 135,
     "metadata": {},
     "output_type": "execute_result"
    }
   ],
   "source": [
    "['a'] + c"
   ]
  },
  {
   "cell_type": "code",
   "execution_count": 137,
   "id": "virgin-incidence",
   "metadata": {},
   "outputs": [
    {
     "ename": "AttributeError",
     "evalue": "'DataFrame' object has no attribute 'rows'",
     "output_type": "error",
     "traceback": [
      "\u001b[0;31m---------------------------------------------------------------------------\u001b[0m",
      "\u001b[0;31mAttributeError\u001b[0m                            Traceback (most recent call last)",
      "\u001b[0;32m<ipython-input-137-51d74959dd59>\u001b[0m in \u001b[0;36m<module>\u001b[0;34m\u001b[0m\n\u001b[0;32m----> 1\u001b[0;31m \u001b[0;32mfor\u001b[0m \u001b[0mi\u001b[0m \u001b[0;32min\u001b[0m \u001b[0miris\u001b[0m\u001b[0;34m.\u001b[0m\u001b[0mrows\u001b[0m\u001b[0;34m:\u001b[0m\u001b[0;34m\u001b[0m\u001b[0;34m\u001b[0m\u001b[0m\n\u001b[0m\u001b[1;32m      2\u001b[0m     \u001b[0mprint\u001b[0m\u001b[0;34m(\u001b[0m\u001b[0mi\u001b[0m\u001b[0;34m)\u001b[0m\u001b[0;34m\u001b[0m\u001b[0;34m\u001b[0m\u001b[0m\n",
      "\u001b[0;32m~/environments/py39/lib/python3.9/site-packages/pandas/core/generic.py\u001b[0m in \u001b[0;36m__getattr__\u001b[0;34m(self, name)\u001b[0m\n\u001b[1;32m   5460\u001b[0m             \u001b[0;32mif\u001b[0m \u001b[0mself\u001b[0m\u001b[0;34m.\u001b[0m\u001b[0m_info_axis\u001b[0m\u001b[0;34m.\u001b[0m\u001b[0m_can_hold_identifiers_and_holds_name\u001b[0m\u001b[0;34m(\u001b[0m\u001b[0mname\u001b[0m\u001b[0;34m)\u001b[0m\u001b[0;34m:\u001b[0m\u001b[0;34m\u001b[0m\u001b[0;34m\u001b[0m\u001b[0m\n\u001b[1;32m   5461\u001b[0m                 \u001b[0;32mreturn\u001b[0m \u001b[0mself\u001b[0m\u001b[0;34m[\u001b[0m\u001b[0mname\u001b[0m\u001b[0;34m]\u001b[0m\u001b[0;34m\u001b[0m\u001b[0;34m\u001b[0m\u001b[0m\n\u001b[0;32m-> 5462\u001b[0;31m             \u001b[0;32mreturn\u001b[0m \u001b[0mobject\u001b[0m\u001b[0;34m.\u001b[0m\u001b[0m__getattribute__\u001b[0m\u001b[0;34m(\u001b[0m\u001b[0mself\u001b[0m\u001b[0;34m,\u001b[0m \u001b[0mname\u001b[0m\u001b[0;34m)\u001b[0m\u001b[0;34m\u001b[0m\u001b[0;34m\u001b[0m\u001b[0m\n\u001b[0m\u001b[1;32m   5463\u001b[0m \u001b[0;34m\u001b[0m\u001b[0m\n\u001b[1;32m   5464\u001b[0m     \u001b[0;32mdef\u001b[0m \u001b[0m__setattr__\u001b[0m\u001b[0;34m(\u001b[0m\u001b[0mself\u001b[0m\u001b[0;34m,\u001b[0m \u001b[0mname\u001b[0m\u001b[0;34m:\u001b[0m \u001b[0mstr\u001b[0m\u001b[0;34m,\u001b[0m \u001b[0mvalue\u001b[0m\u001b[0;34m)\u001b[0m \u001b[0;34m->\u001b[0m \u001b[0;32mNone\u001b[0m\u001b[0;34m:\u001b[0m\u001b[0;34m\u001b[0m\u001b[0;34m\u001b[0m\u001b[0m\n",
      "\u001b[0;31mAttributeError\u001b[0m: 'DataFrame' object has no attribute 'rows'"
     ]
    }
   ],
   "source": [
    "for i in iris.rows:\n",
    "    print(i)"
   ]
  },
  {
   "cell_type": "code",
   "execution_count": 115,
   "id": "featured-prototype",
   "metadata": {},
   "outputs": [
    {
     "name": "stdout",
     "output_type": "stream",
     "text": [
      "0\n",
      "1\n",
      "2\n",
      "3\n",
      "4\n",
      "5\n",
      "6\n",
      "Stafstrom CE.  An introduction to seizures and epilepsy. is missing link!\n",
      "7\n",
      "8\n",
      "9\n",
      "10\n",
      "Temkin O.  The falling sickness: a history of epilepsy from the Greeks to the beginnings of modern neurology. is missing link!\n",
      "11\n",
      "Guelpa, G; Marie, A (1911).  \"La lutte contre l'epilepsie par la desintoxication et par la reeducation alimentaire\" [The fight against epilepsy by detoxification and by the reeducation about food]. is missing link!\n",
      "12\n",
      "13\n",
      "14\n",
      "15\n",
      "16\n",
      "17\n",
      "18\n",
      "19\n",
      "20\n",
      "21\n",
      "22\n",
      "23\n",
      "24\n",
      "25\n",
      "26\n",
      "Bergqvist AGC.  Indications and Contraindications of the Ketogenic diet. is missing link!\n",
      "27\n",
      "28\n",
      "29\n",
      "30\n",
      "31\n",
      "32\n",
      "Kossoff EH, Freeman JM.  The ketogenic diet—the physician's perspective. is missing link!\n",
      "33\n",
      "34\n",
      "35\n",
      "36\n",
      "37\n",
      "38\n",
      "Zupec-Kania B, Werner RR, Zupanc ML.  Clinical Use of the Ketogenic Diet—The Dietitian's Role. is missing link!\n",
      "39\n",
      "40\n",
      "41\n",
      "42\n",
      "43\n",
      "44\n",
      "45\n",
      "46\n",
      "Musa-Veloso K, Cunnane SC.  Measuring and interpreting ketosis and fatty acid profiles in patients on a high-fat ketogenic diet. is missing link!\n",
      "47\n",
      "48\n",
      "49\n",
      "50\n",
      "51\n",
      "52\n",
      "53\n",
      "54\n",
      "55\n",
      "56\n",
      "57\n",
      "58\n",
      "59\n",
      "60\n",
      "61\n",
      "62\n"
     ]
    }
   ],
   "source": [
    "#Successfully grabbed the title!\n",
    "name_links = []\n",
    "i = 0\n",
    "for ref in references.findAll('li'):\n",
    "    name = ref.find(class_='reference-text').text.split('.')[:2]\n",
    "    name = '. '.join(name) + '.'\n",
    "    print(i)\n",
    "    try:\n",
    "        link = ref.find(class_='external text').get('href')\n",
    "    except:\n",
    "        print(f'{name} is missing link!')\n",
    "        link = 'NO LINK; POSSIBLY A BOOK'\n",
    "    name_links.append((name,link))\n",
    "    i+=1"
   ]
  },
  {
   "cell_type": "code",
   "execution_count": 116,
   "id": "unnecessary-valve",
   "metadata": {},
   "outputs": [],
   "source": [
    "stafs = references.findAll('li')[6]"
   ]
  },
  {
   "cell_type": "code",
   "execution_count": 117,
   "id": "ongoing-necklace",
   "metadata": {},
   "outputs": [
    {
     "data": {
      "text/plain": [
       "<li id=\"cite_note-Stafstrom2004-8\"><span class=\"mw-cite-backlink\">^ <a href=\"#cite_ref-Stafstrom2004_8-0\"><sup><i><b>a</b></i></sup></a> <a href=\"#cite_ref-Stafstrom2004_8-1\"><sup><i><b>b</b></i></sup></a> <a href=\"#cite_ref-Stafstrom2004_8-2\"><sup><i><b>c</b></i></sup></a> <a href=\"#cite_ref-Stafstrom2004_8-3\"><sup><i><b>d</b></i></sup></a> <a href=\"#cite_ref-Stafstrom2004_8-4\"><sup><i><b>e</b></i></sup></a></span> <span class=\"reference-text\">Stafstrom CE. An introduction to seizures and epilepsy. In: Stafstrom CE, Rho JM, editors. Epilepsy and the ketogenic diet. Totowa: Humana Press; 2004. <link href=\"mw-data:TemplateStyles:r999302996\" rel=\"mw-deduplicated-inline-style\"/><a class=\"mw-redirect\" href=\"/wiki/ISBN_(identifier)\" title=\"ISBN (identifier)\">ISBN</a> <a href=\"/wiki/Special:BookSources/1-58829-295-9\" title=\"Special:BookSources/1-58829-295-9\">1-58829-295-9</a>.</span>\n",
       "</li>"
      ]
     },
     "execution_count": 117,
     "metadata": {},
     "output_type": "execute_result"
    }
   ],
   "source": [
    "stafs"
   ]
  },
  {
   "cell_type": "code",
   "execution_count": null,
   "id": "finnish-cleveland",
   "metadata": {},
   "outputs": [],
   "source": []
  }
 ],
 "metadata": {
  "kernelspec": {
   "display_name": "Python 3",
   "language": "python",
   "name": "python3"
  },
  "language_info": {
   "codemirror_mode": {
    "name": "ipython",
    "version": 3
   },
   "file_extension": ".py",
   "mimetype": "text/x-python",
   "name": "python",
   "nbconvert_exporter": "python",
   "pygments_lexer": "ipython3",
   "version": "3.9.1"
  }
 },
 "nbformat": 4,
 "nbformat_minor": 5
}
